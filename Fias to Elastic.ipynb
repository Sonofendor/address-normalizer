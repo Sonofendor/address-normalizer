{
 "cells": [
  {
   "cell_type": "code",
   "execution_count": null,
   "metadata": {},
   "outputs": [],
   "source": [
    "from elasticsearch import helpers, Elasticsearch\n",
    "import csv\n",
    "import pandas as pd\n",
    "pd.options.display.max_columns = None\n",
    "from elasticsearch import Elasticsearch\n",
    "from simpledbf import Dbf5"
   ]
  },
  {
   "cell_type": "markdown",
   "metadata": {},
   "source": [
    "# Для начала преобразуем всё в csv"
   ]
  },
  {
   "cell_type": "code",
   "execution_count": null,
   "metadata": {},
   "outputs": [],
   "source": [
    "files = glob.glob('FIAS/ADDR*', recursive=True)\n",
    "for i, f in enumerate(files):\n",
    "  if f[-3:].lower() == 'dbf':\n",
    "    print('processing {0} of {1}. Filename: {2}           '.format(i+1, len(files), f), end='\\r')\n",
    "    dbf = Dbf5(f , codec='cp866')\n",
    "    dbf.to_csv('fias_csv/ADDROBJ.csv')"
   ]
  },
  {
   "cell_type": "code",
   "execution_count": null,
   "metadata": {},
   "outputs": [],
   "source": [
    "path = 'fias/'\n",
    "files = ['ESTSTAT.DBF', 'FLATTYPE.DBF', 'HSTSTAT.DBF', 'INTVSTAT.DBF', 'NDOCTYPE.DBF', \n",
    "  'OPERSTAT.DBF', 'ROOMTYPE.DBF', 'SOCRBASE.DBF', 'STRSTAT.DBF']\n",
    "for i, f in enumerate(files):\n",
    "  if f[-3:].lower() == 'dbf':\n",
    "    print('processing {0} of {1}. Filename: {2}           '.format(i+1, len(files), f), end='\\r')\n",
    "    dbf = Dbf5(path+f , codec='cp866')\n",
    "    dbf.to_csv('fias_csv/{0}.csv'.format(f[:-4]))"
   ]
  },
  {
   "cell_type": "code",
   "execution_count": null,
   "metadata": {},
   "outputs": [],
   "source": [
    "files = glob.glob('FIAS/HOUSE*', recursive=True)\n",
    "for i, f in enumerate(files):\n",
    "  if f[-3:].lower() == 'dbf':\n",
    "    print('processing {0} of {1}. Filename: {2}           '.format(i+1, len(files), f), end='\\r')\n",
    "    dbf = Dbf5(f , codec='cp866')\n",
    "    dbf.to_csv('fias_csv/HOUSE.csv')"
   ]
  },
  {
   "cell_type": "raw",
   "metadata": {},
   "source": [
    "# Нормативные документы не понадобились, кстати, но пусть будут здесь\n",
    "files = glob.glob('FIAS/NORDOC*', recursive=True)\n",
    "for i, f in enumerate(files):\n",
    "  if f[-3:].lower() == 'dbf':\n",
    "    print('processing {0} of {1}. Filename: {2}           '.format(i+1, len(files), f), end='\\r')\n",
    "    dbf = Dbf5(f , codec='cp866')\n",
    "    dbf.to_csv('fias_csv/NORDOC.csv')"
   ]
  },
  {
   "cell_type": "code",
   "execution_count": null,
   "metadata": {},
   "outputs": [],
   "source": [
    "files = glob.glob('FIAS/ROOM*', recursive=True)\n",
    "for i, f in enumerate(files):\n",
    "  if f[-3:].lower() == 'dbf':\n",
    "    print('processing {0} of {1}. Filename: {2}           '.format(i+1, len(files), f), end='\\r')\n",
    "    dbf = Dbf5(f , codec='cp866')\n",
    "    dbf.to_csv('fias_csv/ROOM.csv')"
   ]
  },
  {
   "cell_type": "code",
   "execution_count": null,
   "metadata": {},
   "outputs": [],
   "source": [
    "files = glob.glob('FIAS/STEAD*', recursive=True)\n",
    "for i, f in enumerate(files):\n",
    "  if f[-3:].lower() == 'dbf':\n",
    "    print('processing {0} of {1}. Filename: {2}           '.format(i+1, len(files), f), end='\\r')\n",
    "    dbf = Dbf5(f , codec='cp866')\n",
    "    dbf.to_csv('fias_csv/STEAD.csv')"
   ]
  },
  {
   "cell_type": "markdown",
   "metadata": {},
   "source": [
    "# Теперь надо всё это закинуть в Elastic\n",
    "Да, это не самый оптимальный путь (можно миновать csv). Но это уже как есть"
   ]
  },
  {
   "cell_type": "code",
   "execution_count": null,
   "metadata": {},
   "outputs": [],
   "source": [
    "es = Elasticsearch()"
   ]
  },
  {
   "cell_type": "code",
   "execution_count": null,
   "metadata": {},
   "outputs": [],
   "source": [
    "def load_elastic(fn, index, doc_type, encoding='cp866', es=es):\n",
    "  '''\n",
    "  Этот метод загружает указанный файлик в elastic.\n",
    "  '''\n",
    "  with open(fn, encoding=encoding) as f:\n",
    "    reader = csv.DictReader(f)\n",
    "    helpers.bulk(es, reader, index=index, doc_type=doc_type, raise_on_error=False, stats_only=True)\n",
    "    print('done')"
   ]
  },
  {
   "cell_type": "code",
   "execution_count": null,
   "metadata": {},
   "outputs": [],
   "source": [
    "# Загрузка самой главной таблицы\n",
    "# На первых порах её нам хватит. Остальные загружаются при надобности\n",
    "# Занимает 2 часа\n",
    "load_elastic('fias_csv/ADDROBJ.csv', 'fias', 'address')"
   ]
  },
  {
   "cell_type": "markdown",
   "metadata": {},
   "source": [
    "# Оптимизация под полнотекстовый поиск"
   ]
  },
  {
   "cell_type": "code",
   "execution_count": null,
   "metadata": {},
   "outputs": [],
   "source": [
    "def full_address(GUID):\n",
    "  answer = es.search(index='fias', doc_type='address', body=\n",
    "  {\n",
    "    \"size\":1,\n",
    "    \"query\": {\n",
    "      \"bool\": {\n",
    "        \"must\": [\n",
    "          { \"match\": { \n",
    "              \"AOGUID\": GUID }},\n",
    "          { \"match\": { \n",
    "              \"ACTSTATUS\":  1}}\n",
    "        ]\n",
    "      }\n",
    "    }\n",
    "  })\n",
    "  entry = answer[\"hits\"][\"hits\"][0][\"_source\"]\n",
    "  string = entry['SHORTNAME'] + \" \" + entry['OFFNAME']\n",
    "  if len(entry['PARENTGUID'])>5:\n",
    "    string = full_address(entry['PARENTGUID']) + ', ' + string\n",
    "  return string"
   ]
  },
  {
   "cell_type": "code",
   "execution_count": null,
   "metadata": {},
   "outputs": [],
   "source": [
    "df_addr = pd.read_csv('fias_csv/ADDROBJ.csv', encoding='cp866', dtype=str, error_bad_lines=False)"
   ]
  },
  {
   "cell_type": "code",
   "execution_count": null,
   "metadata": {},
   "outputs": [],
   "source": [
    "def full_address_sep(GUID, _leaf=True):\n",
    "  address = {}\n",
    "  address['fullname'] = ''    \n",
    "  answer = es.search(index='fias', doc_type='address', body=\n",
    "  {\n",
    "    \"size\":1,\n",
    "    \"query\": {\n",
    "      \"bool\": {\n",
    "        \"must\": [\n",
    "          { \"match\": { \n",
    "              \"AOGUID\": GUID }},\n",
    "          { \"match\": { \n",
    "              \"ACTSTATUS\":  1}}\n",
    "        ]\n",
    "      }\n",
    "    }\n",
    "  })\n",
    "  entry = answer[\"hits\"][\"hits\"][0][\"_source\"]\n",
    "  level = entry[\"AOLEVEL\"]\n",
    "  LUT = {\n",
    "    '1':'region',\n",
    "    '3':'area',\n",
    "    '4':'city',\n",
    "    '5':'district',\n",
    "    '6':'town',\n",
    "    '7':'street', \n",
    "    '90':'additional',\n",
    "    '91':'nestreet'\n",
    "  }\n",
    "  if _leaf:\n",
    "    address['guid'] = GUID\n",
    "    address['aolevel'] = entry['AOLEVEL']\n",
    "  address[LUT.get(level, level)] = entry['OFFNAME']\n",
    "  address[LUT.get(level, level)+\"_type\"] = entry['SHORTNAME']\n",
    "  address['fullname'] = entry['SHORTNAME'] + \" \" + entry['OFFNAME']\n",
    "  if len(entry['PARENTGUID'])>5:\n",
    "    nest = full_address_sep(entry['PARENTGUID'], _leaf=False)\n",
    "    string = nest['fullname'] + ', ' + address['fullname']\n",
    "    address.update(nest)\n",
    "    address['fullname'] = string\n",
    "  return address"
   ]
  },
  {
   "cell_type": "code",
   "execution_count": null,
   "metadata": {},
   "outputs": [],
   "source": [
    "# здесь могут быть ошибки парсинга на некоторых полях. \n",
    "# Их можно просто пропустить а потом попытаться исправить самостоятельно.\n",
    "start= None\n",
    "finish = None\n",
    "i = start\n",
    "for _, value in df_addr[[\"AOGUID\"]][df_addr['ACTSTATUS']=='1'][start:finish].iterrows():\n",
    "  if i%50==0:\n",
    "    print(i,  end=\"\\r\")\n",
    "  full_addr = full_address_sep(value[\"AOGUID\"])\n",
    "  es.index(index=\"fias_full_text\", id=value[\"AOGUID\"], doc_type='address', body=full_addr)\n",
    "  i+=1"
   ]
  },
  {
   "cell_type": "markdown",
   "metadata": {},
   "source": [
    "На данном этапе в elastic должна быть таблица fias_full_text. Далее мы её будем максимально активно использовать"
   ]
  },
  {
   "cell_type": "code",
   "execution_count": null,
   "metadata": {},
   "outputs": [],
   "source": [
    "# Можно ставить на ночь. Это очень долго: 18Гб таблица весит\n",
    "load_elastic('fias_csv/HOUSE.csv', 'fias_houses', 'home')"
   ]
  },
  {
   "cell_type": "code",
   "execution_count": null,
   "metadata": {},
   "outputs": [],
   "source": []
  }
 ],
 "metadata": {
  "kernelspec": {
   "display_name": "Python 3",
   "language": "python",
   "name": "python3"
  },
  "language_info": {
   "codemirror_mode": {
    "name": "ipython",
    "version": 3
   },
   "file_extension": ".py",
   "mimetype": "text/x-python",
   "name": "python",
   "nbconvert_exporter": "python",
   "pygments_lexer": "ipython3",
   "version": "3.6.3"
  }
 },
 "nbformat": 4,
 "nbformat_minor": 2
}
